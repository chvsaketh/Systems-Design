{
 "cells": [
  {
   "cell_type": "markdown",
   "metadata": {},
   "source": [
    "# Systems Design Assignment 2"
   ]
  },
  {
   "cell_type": "markdown",
   "metadata": {},
   "source": [
    "## The following Jupyter Notebook contains code pertaining to the Pre-Processing and Clustering Steps"
   ]
  },
  {
   "cell_type": "code",
   "execution_count": 215,
   "metadata": {},
   "outputs": [],
   "source": [
    "import numpy as np\n",
    "import matplotlib.pyplot as plt \n",
    "import seaborn as sns \n",
    "import sklearn as skl\n",
    "import pandas as pd"
   ]
  },
  {
   "cell_type": "markdown",
   "metadata": {},
   "source": [
    "## The csv file is read into a pandas dataframe df"
   ]
  },
  {
   "cell_type": "code",
   "execution_count": 216,
   "metadata": {},
   "outputs": [],
   "source": [
    "df = pd.read_csv('C:/Users/Venkata Saketh Ch/Desktop/Systems Design/Project 2/Chronic_Kidney_Disease/ckd_full.csv')"
   ]
  },
  {
   "cell_type": "markdown",
   "metadata": {},
   "source": [
    "# Pre-processing"
   ]
  },
  {
   "cell_type": "markdown",
   "metadata": {},
   "source": [
    "### The shape of the data before the Pre-processing stage"
   ]
  },
  {
   "cell_type": "code",
   "execution_count": 217,
   "metadata": {
    "scrolled": true
   },
   "outputs": [
    {
     "data": {
      "text/plain": [
       "(400, 26)"
      ]
     },
     "execution_count": 217,
     "metadata": {},
     "output_type": "execute_result"
    }
   ],
   "source": [
    "df.shape"
   ]
  },
  {
   "cell_type": "markdown",
   "metadata": {},
   "source": [
    "## Editing the column names"
   ]
  },
  {
   "cell_type": "code",
   "execution_count": 218,
   "metadata": {},
   "outputs": [],
   "source": [
    "df.columns = ['id','age', 'bp', 'sg', 'al' , 'su', 'rbc', 'pc', 'pcc', 'ba', 'bgr', 'bu', 'sc', 'sod', 'pot', 'hemo', 'pcv',\\\n",
    "              'wc', 'rc', 'htn', 'dm', 'cad', 'appet', 'pe','ane', 'class']"
   ]
  },
  {
   "cell_type": "markdown",
   "metadata": {},
   "source": [
    "## Removing the irrelavent attributes"
   ]
  },
  {
   "cell_type": "code",
   "execution_count": 219,
   "metadata": {},
   "outputs": [],
   "source": [
    "df.drop(\"id\",axis=1,inplace=True) "
   ]
  },
  {
   "cell_type": "markdown",
   "metadata": {},
   "source": [
    "## Handling the Missing Data"
   ]
  },
  {
   "cell_type": "code",
   "execution_count": 220,
   "metadata": {},
   "outputs": [],
   "source": [
    "df.replace('?', np.nan, inplace=True)\n",
    "df.dropna(axis=0, inplace=True)\n",
    "df.reset_index(drop = True, inplace = True)"
   ]
  },
  {
   "cell_type": "markdown",
   "metadata": {},
   "source": [
    "## Dealing with categorical data through Label Encoding"
   ]
  },
  {
   "cell_type": "code",
   "execution_count": 221,
   "metadata": {},
   "outputs": [],
   "source": [
    "dictonary = {\"rbc\": {\"abnormal\":1,\"normal\": 0,},\"pc\":{\"abnormal\":1,\"normal\": 0,},\"pcc\":{\"present\":1,\"notpresent\":0,},\\\n",
    "             \"ba\":{\"notpresent\":0,\"present\": 1,},\"htn\":{\"yes\":1,\"no\": 0,},\"dm\":{\"yes\":1,\"no\":0,},\"cad\":{\"yes\":1,\"no\": 0,},\\\n",
    "             \"appet\":{\"good\":1,\"poor\": 0,},\"pe\":{\"yes\":1,\"no\":0,},\"ane\":{\"yes\":1,\"no\":0,}}"
   ]
  },
  {
   "cell_type": "code",
   "execution_count": 222,
   "metadata": {},
   "outputs": [],
   "source": [
    "df=df.replace(dictonary)"
   ]
  },
  {
   "cell_type": "markdown",
   "metadata": {},
   "source": [
    "### Converting the Numerical attributes and other label-encoded categorical attributes to the float datatype"
   ]
  },
  {
   "cell_type": "code",
   "execution_count": 223,
   "metadata": {},
   "outputs": [],
   "source": [
    "df[['age', 'bp','sg', 'al', 'su']] = df[['age', 'bp','sg', 'al', 'su']].astype(float)\n",
    "df[['bgr','bu','sc', 'sod', 'pot']] = df[['bgr','bu','sc', 'sod', 'pot']].astype(float)\n",
    "df[['hemo', 'pcv', 'wc','rc']] = df[['hemo', 'pcv', 'wc','rc']].astype(float)    "
   ]
  },
  {
   "cell_type": "markdown",
   "metadata": {},
   "source": [
    "## The shape of the data after the Pre-processing stage"
   ]
  },
  {
   "cell_type": "code",
   "execution_count": 224,
   "metadata": {
    "scrolled": true
   },
   "outputs": [
    {
     "data": {
      "text/plain": [
       "(158, 25)"
      ]
     },
     "execution_count": 224,
     "metadata": {},
     "output_type": "execute_result"
    }
   ],
   "source": [
    "df.shape"
   ]
  },
  {
   "cell_type": "markdown",
   "metadata": {},
   "source": [
    "## Saving the dataframe as a csv file after the Pre-processing stage"
   ]
  },
  {
   "cell_type": "code",
   "execution_count": 225,
   "metadata": {},
   "outputs": [],
   "source": [
    "df.to_csv('Assignment_2.csv')"
   ]
  },
  {
   "cell_type": "markdown",
   "metadata": {},
   "source": [
    "# Clustering"
   ]
  },
  {
   "cell_type": "markdown",
   "metadata": {},
   "source": [
    "## Converting the class attribute from categorical to numeric values"
   ]
  },
  {
   "cell_type": "code",
   "execution_count": 226,
   "metadata": {},
   "outputs": [],
   "source": [
    "# we convert the categorical values of the class attribute ckd and notckd to 1 and 0 respectively\n",
    "df['class']=[1 if each==\"ckd\" else 0 for each in df['class']]"
   ]
  },
  {
   "cell_type": "code",
   "execution_count": 228,
   "metadata": {},
   "outputs": [
    {
     "data": {
      "text/html": [
       "<div>\n",
       "<style scoped>\n",
       "    .dataframe tbody tr th:only-of-type {\n",
       "        vertical-align: middle;\n",
       "    }\n",
       "\n",
       "    .dataframe tbody tr th {\n",
       "        vertical-align: top;\n",
       "    }\n",
       "\n",
       "    .dataframe thead th {\n",
       "        text-align: right;\n",
       "    }\n",
       "</style>\n",
       "<table border=\"1\" class=\"dataframe\">\n",
       "  <thead>\n",
       "    <tr style=\"text-align: right;\">\n",
       "      <th></th>\n",
       "      <th>age</th>\n",
       "      <th>bp</th>\n",
       "      <th>sg</th>\n",
       "      <th>al</th>\n",
       "      <th>su</th>\n",
       "      <th>rbc</th>\n",
       "      <th>pc</th>\n",
       "      <th>pcc</th>\n",
       "      <th>ba</th>\n",
       "      <th>bgr</th>\n",
       "      <th>...</th>\n",
       "      <th>pcv</th>\n",
       "      <th>wc</th>\n",
       "      <th>rc</th>\n",
       "      <th>htn</th>\n",
       "      <th>dm</th>\n",
       "      <th>cad</th>\n",
       "      <th>appet</th>\n",
       "      <th>pe</th>\n",
       "      <th>ane</th>\n",
       "      <th>class</th>\n",
       "    </tr>\n",
       "  </thead>\n",
       "  <tbody>\n",
       "    <tr>\n",
       "      <th>0</th>\n",
       "      <td>48.0</td>\n",
       "      <td>70.0</td>\n",
       "      <td>1.005</td>\n",
       "      <td>4.0</td>\n",
       "      <td>0.0</td>\n",
       "      <td>0</td>\n",
       "      <td>1</td>\n",
       "      <td>1</td>\n",
       "      <td>0</td>\n",
       "      <td>117.0</td>\n",
       "      <td>...</td>\n",
       "      <td>32.0</td>\n",
       "      <td>6700.0</td>\n",
       "      <td>3.9</td>\n",
       "      <td>1</td>\n",
       "      <td>0</td>\n",
       "      <td>0</td>\n",
       "      <td>0</td>\n",
       "      <td>1</td>\n",
       "      <td>1</td>\n",
       "      <td>1</td>\n",
       "    </tr>\n",
       "    <tr>\n",
       "      <th>1</th>\n",
       "      <td>53.0</td>\n",
       "      <td>90.0</td>\n",
       "      <td>1.020</td>\n",
       "      <td>2.0</td>\n",
       "      <td>0.0</td>\n",
       "      <td>1</td>\n",
       "      <td>1</td>\n",
       "      <td>1</td>\n",
       "      <td>0</td>\n",
       "      <td>70.0</td>\n",
       "      <td>...</td>\n",
       "      <td>29.0</td>\n",
       "      <td>12100.0</td>\n",
       "      <td>3.7</td>\n",
       "      <td>1</td>\n",
       "      <td>1</td>\n",
       "      <td>0</td>\n",
       "      <td>0</td>\n",
       "      <td>0</td>\n",
       "      <td>1</td>\n",
       "      <td>1</td>\n",
       "    </tr>\n",
       "    <tr>\n",
       "      <th>2</th>\n",
       "      <td>63.0</td>\n",
       "      <td>70.0</td>\n",
       "      <td>1.010</td>\n",
       "      <td>3.0</td>\n",
       "      <td>0.0</td>\n",
       "      <td>1</td>\n",
       "      <td>1</td>\n",
       "      <td>1</td>\n",
       "      <td>0</td>\n",
       "      <td>380.0</td>\n",
       "      <td>...</td>\n",
       "      <td>32.0</td>\n",
       "      <td>4500.0</td>\n",
       "      <td>3.8</td>\n",
       "      <td>1</td>\n",
       "      <td>1</td>\n",
       "      <td>0</td>\n",
       "      <td>0</td>\n",
       "      <td>1</td>\n",
       "      <td>0</td>\n",
       "      <td>1</td>\n",
       "    </tr>\n",
       "    <tr>\n",
       "      <th>3</th>\n",
       "      <td>68.0</td>\n",
       "      <td>80.0</td>\n",
       "      <td>1.010</td>\n",
       "      <td>3.0</td>\n",
       "      <td>2.0</td>\n",
       "      <td>0</td>\n",
       "      <td>1</td>\n",
       "      <td>1</td>\n",
       "      <td>1</td>\n",
       "      <td>157.0</td>\n",
       "      <td>...</td>\n",
       "      <td>16.0</td>\n",
       "      <td>11000.0</td>\n",
       "      <td>2.6</td>\n",
       "      <td>1</td>\n",
       "      <td>1</td>\n",
       "      <td>1</td>\n",
       "      <td>0</td>\n",
       "      <td>1</td>\n",
       "      <td>0</td>\n",
       "      <td>1</td>\n",
       "    </tr>\n",
       "    <tr>\n",
       "      <th>4</th>\n",
       "      <td>61.0</td>\n",
       "      <td>80.0</td>\n",
       "      <td>1.015</td>\n",
       "      <td>2.0</td>\n",
       "      <td>0.0</td>\n",
       "      <td>1</td>\n",
       "      <td>1</td>\n",
       "      <td>0</td>\n",
       "      <td>0</td>\n",
       "      <td>173.0</td>\n",
       "      <td>...</td>\n",
       "      <td>24.0</td>\n",
       "      <td>9200.0</td>\n",
       "      <td>3.2</td>\n",
       "      <td>1</td>\n",
       "      <td>1</td>\n",
       "      <td>1</td>\n",
       "      <td>0</td>\n",
       "      <td>1</td>\n",
       "      <td>1</td>\n",
       "      <td>1</td>\n",
       "    </tr>\n",
       "  </tbody>\n",
       "</table>\n",
       "<p>5 rows × 25 columns</p>\n",
       "</div>"
      ],
      "text/plain": [
       "    age    bp     sg   al   su  rbc  pc  pcc  ba    bgr  ...     pcv       wc  \\\n",
       "0  48.0  70.0  1.005  4.0  0.0    0   1    1   0  117.0  ...    32.0   6700.0   \n",
       "1  53.0  90.0  1.020  2.0  0.0    1   1    1   0   70.0  ...    29.0  12100.0   \n",
       "2  63.0  70.0  1.010  3.0  0.0    1   1    1   0  380.0  ...    32.0   4500.0   \n",
       "3  68.0  80.0  1.010  3.0  2.0    0   1    1   1  157.0  ...    16.0  11000.0   \n",
       "4  61.0  80.0  1.015  2.0  0.0    1   1    0   0  173.0  ...    24.0   9200.0   \n",
       "\n",
       "    rc  htn  dm  cad  appet  pe  ane  class  \n",
       "0  3.9    1   0    0      0   1    1      1  \n",
       "1  3.7    1   1    0      0   0    1      1  \n",
       "2  3.8    1   1    0      0   1    0      1  \n",
       "3  2.6    1   1    1      0   1    0      1  \n",
       "4  3.2    1   1    1      0   1    1      1  \n",
       "\n",
       "[5 rows x 25 columns]"
      ]
     },
     "execution_count": 228,
     "metadata": {},
     "output_type": "execute_result"
    }
   ],
   "source": [
    "df.head()"
   ]
  },
  {
   "cell_type": "markdown",
   "metadata": {},
   "source": [
    "## Creating the dataframe for Clustering"
   ]
  },
  {
   "cell_type": "markdown",
   "metadata": {},
   "source": [
    "### We create the dataframe df_cls for clustering. It contains all the continuous attributes given in the dataset."
   ]
  },
  {
   "cell_type": "code",
   "execution_count": 229,
   "metadata": {},
   "outputs": [],
   "source": [
    "df_cls = df.filter(['age','bp','bgr','bu','sc','sod','pot','hemo','pcv','wc','rc'], axis=1)"
   ]
  },
  {
   "cell_type": "markdown",
   "metadata": {},
   "source": [
    "## Normalizing the data"
   ]
  },
  {
   "cell_type": "code",
   "execution_count": 230,
   "metadata": {},
   "outputs": [],
   "source": [
    "def normalize(df, toNormalize): \n",
    "    result = df.copy()\n",
    "    for item in df.columns:\n",
    "        if (item in toNormalize):\n",
    "            max_value = df[item].max()\n",
    "            min_value = df[item].min()\n",
    "            result[item] = (df[item] - min_value) / (max_value - min_value)\n",
    "    return result"
   ]
  },
  {
   "cell_type": "code",
   "execution_count": 231,
   "metadata": {},
   "outputs": [],
   "source": [
    "toNormalize = ['age','bp','bgr','bu','sc','sod','pot','hemo','pcv','wc','rc'] \n",
    "X_norm = normalize(df_cls, toNormalize)\n",
    "X_norm = X_norm.dropna()"
   ]
  },
  {
   "cell_type": "markdown",
   "metadata": {},
   "source": [
    "## K-Means Clustering with number of clusters k = 2"
   ]
  },
  {
   "cell_type": "code",
   "execution_count": 232,
   "metadata": {},
   "outputs": [],
   "source": [
    "# Performing K-Means Clustering using number of clusters K=2\n",
    "from sklearn.cluster import KMeans\n",
    "\n",
    "km_2 = KMeans(n_clusters=2, init='random', n_init=100, max_iter=100)\n",
    "y_km_2 = km_2.fit_predict(X_norm)"
   ]
  },
  {
   "cell_type": "markdown",
   "metadata": {},
   "source": [
    "## Cluster Centroids"
   ]
  },
  {
   "cell_type": "code",
   "execution_count": 233,
   "metadata": {},
   "outputs": [
    {
     "name": "stdout",
     "output_type": "stream",
     "text": [
      "[[0.67765568 0.50854701 0.30921856 0.33118943 0.38167013 0.50098619\n",
      "  0.06972054 0.43362986 0.43589744 0.29509871 0.23772273]\n",
      " [0.52908436 0.36554622 0.09257703 0.0805205  0.03537361 0.78388278\n",
      "  0.04090265 0.81415423 0.82838469 0.17799509 0.55034895]]\n"
     ]
    }
   ],
   "source": [
    "print(km_2.cluster_centers_)  "
   ]
  },
  {
   "cell_type": "code",
   "execution_count": 234,
   "metadata": {},
   "outputs": [],
   "source": [
    "labels = km_2.predict(X_norm)\n",
    "clusters = {}\n",
    "n = 0\n",
    "pat_obs = list(range(1,159))\n",
    "for item in labels:\n",
    "        if item in clusters:\n",
    "            clusters[item].append(pat_obs[n])\n",
    "        else:\n",
    "            clusters[item] = [pat_obs[n]]\n",
    "        n +=1"
   ]
  },
  {
   "cell_type": "code",
   "execution_count": 235,
   "metadata": {
    "scrolled": true
   },
   "outputs": [
    {
     "name": "stdout",
     "output_type": "stream",
     "text": [
      "\n",
      "\n",
      "Cluster  0\n",
      "1 2 3 4 5 6 7 8 9 10 11 12 13 14 16 17 18 19 20 22 23 24 26 27 28 29 30 32 33 34 35 36 37 38 39 40 41 42 43 \n",
      "\n",
      "Cluster  1\n",
      "15 21 25 31 44 45 46 47 48 49 50 51 52 53 54 55 56 57 58 59 60 61 62 63 64 65 66 67 68 69 70 71 72 73 74 75 76 77 78 79 80 81 82 83 84 85 86 87 88 89 90 91 92 93 94 95 96 97 98 99 100 101 102 103 104 105 106 107 108 109 110 111 112 113 114 115 116 117 118 119 120 121 122 123 124 125 126 127 128 129 130 131 132 133 134 135 136 137 138 139 140 141 142 143 144 145 146 147 148 149 150 151 152 153 154 155 156 157 158 "
     ]
    }
   ],
   "source": [
    "for item in clusters:\n",
    "    print(\"\\n\")\n",
    "    print (\"Cluster \", item )\n",
    "    for i in clusters[item]:\n",
    "        print (i, end = \" \")"
   ]
  },
  {
   "cell_type": "code",
   "execution_count": 236,
   "metadata": {},
   "outputs": [],
   "source": [
    "cluster_map = pd.DataFrame()\n",
    "cluster_map['data_index'] = X_norm.index.values\n",
    "cluster_map['cluster'] = km_2.labels_"
   ]
  },
  {
   "cell_type": "code",
   "execution_count": 237,
   "metadata": {},
   "outputs": [],
   "source": [
    "df_cluster_contents = pd.DataFrame(columns=['Not ckd','ckd'])\n",
    "for j in range(0,2):\n",
    "    df_temp = cluster_map[cluster_map.cluster == j]\n",
    "    count_zero = 0\n",
    "    count_one = 0\n",
    "    for i in df_temp.index.values:\n",
    "        x = df.loc[cluster_map.loc[i,'data_index'],'class']\n",
    "        if x == 0 :\n",
    "            count_zero = count_zero + 1\n",
    "        else:\n",
    "            count_one = count_one + 1\n",
    "    df_data = pd.DataFrame(data=[(count_zero, count_one)], columns=['Not ckd','ckd'])\n",
    "    df_cluster_contents = df_cluster_contents.append(df_data, ignore_index = True)"
   ]
  },
  {
   "cell_type": "code",
   "execution_count": 238,
   "metadata": {
    "scrolled": true
   },
   "outputs": [
    {
     "name": "stdout",
     "output_type": "stream",
     "text": [
      "  Not ckd ckd\n",
      "0       0  39\n",
      "1     115   4\n"
     ]
    }
   ],
   "source": [
    "print (df_cluster_contents)"
   ]
  },
  {
   "cell_type": "markdown",
   "metadata": {},
   "source": [
    "## Elbow Method to determine Optimal K"
   ]
  },
  {
   "cell_type": "code",
   "execution_count": 239,
   "metadata": {},
   "outputs": [],
   "source": [
    "Sum_of_squared_distances = []\n",
    "K = range(1,10)\n",
    "for k in K:\n",
    "    km = KMeans(n_clusters=k)\n",
    "    y_km = km.fit_predict(X_norm)\n",
    "    Sum_of_squared_distances.append(km.inertia_)"
   ]
  },
  {
   "cell_type": "code",
   "execution_count": 240,
   "metadata": {
    "scrolled": true
   },
   "outputs": [
    {
     "data": {
      "image/png": "[encoded data removed]",
      "text/plain": [
       "<Figure size 432x288 with 1 Axes>"
      ]
     },
     "metadata": {},
     "output_type": "display_data"
    }
   ],
   "source": [
    "plt.plot(K, Sum_of_squared_distances, 'bx-')\n",
    "plt.xlabel('Number of Clusters (k)')\n",
    "plt.ylabel('Sum of squared errors')\n",
    "plt.title('Elbow Method For Optimal k')\n",
    "plt.show()"
   ]
  },
  {
   "cell_type": "markdown",
   "metadata": {},
   "source": [
    "## K-Means Clustering with k = 4"
   ]
  },
  {
   "cell_type": "code",
   "execution_count": 241,
   "metadata": {},
   "outputs": [],
   "source": [
    "# Performing K-Means Clustering using number of clusters K=4\n",
    "from sklearn.cluster import KMeans\n",
    "\n",
    "km_4 = KMeans(n_clusters=4, init='random', n_init=100, max_iter=100)\n",
    "y_km_4 = km_4.fit_predict(X_norm)"
   ]
  },
  {
   "cell_type": "markdown",
   "metadata": {},
   "source": [
    "## Cluster centroids"
   ]
  },
  {
   "cell_type": "code",
   "execution_count": 242,
   "metadata": {},
   "outputs": [
    {
     "name": "stdout",
     "output_type": "stream",
     "text": [
      "[[0.72051948 0.46       0.35780952 0.20548495 0.20216216 0.53538462\n",
      "  0.04116854 0.47346939 0.47555556 0.33221239 0.26983051]\n",
      " [0.60111317 0.5952381  0.22244898 0.55566173 0.70222008 0.43956044\n",
      "  0.12070626 0.36248785 0.36507937 0.22882427 0.18038741]\n",
      " [0.70312144 0.38596491 0.10785297 0.08149974 0.040422   0.80611786\n",
      "  0.03804455 0.81083662 0.82768031 0.18879056 0.53880464]\n",
      " [0.36908253 0.34677419 0.07853303 0.07962024 0.03073235 0.76344086\n",
      "  0.04353026 0.8172043  0.82903226 0.16807023 0.56096227]]\n"
     ]
    }
   ],
   "source": [
    "print(km_4.cluster_centers_)  "
   ]
  },
  {
   "cell_type": "code",
   "execution_count": 243,
   "metadata": {},
   "outputs": [],
   "source": [
    "labels = km_4.predict(X_norm)\n",
    "clusters = {}\n",
    "n = 0\n",
    "pat_obs = list(range(1,159))\n",
    "for item in labels:\n",
    "        if item in clusters:\n",
    "            clusters[item].append(pat_obs[n])\n",
    "        else:\n",
    "            clusters[item] = [pat_obs[n]]\n",
    "        n +=1"
   ]
  },
  {
   "cell_type": "code",
   "execution_count": 244,
   "metadata": {},
   "outputs": [
    {
     "name": "stdout",
     "output_type": "stream",
     "text": [
      "\n",
      "\n",
      "Cluster  0\n",
      "1 3 4 5 7 8 9 10 14 16 17 18 22 23 26 27 28 29 30 33 36 37 38 40 42 \n",
      "\n",
      "Cluster  1\n",
      "2 6 11 12 13 19 20 24 32 34 35 39 41 43 \n",
      "\n",
      "Cluster  2\n",
      "15 21 25 46 47 48 50 55 56 59 60 61 65 66 70 73 74 76 80 84 85 88 89 91 92 93 94 96 100 102 104 107 110 120 122 126 127 128 130 131 133 134 135 136 137 138 139 140 142 143 144 147 149 151 153 154 158 \n",
      "\n",
      "Cluster  3\n",
      "31 44 45 49 51 52 53 54 57 58 62 63 64 67 68 69 71 72 75 77 78 79 81 82 83 86 87 90 95 97 98 99 101 103 105 106 108 109 111 112 113 114 115 116 117 118 119 121 123 124 125 129 132 141 145 146 148 150 152 155 156 157 "
     ]
    }
   ],
   "source": [
    "for item in clusters:\n",
    "    print(\"\\n\")\n",
    "    print (\"Cluster \", item )\n",
    "    for i in clusters[item]:\n",
    "        print (i, end = \" \")"
   ]
  },
  {
   "cell_type": "code",
   "execution_count": 245,
   "metadata": {},
   "outputs": [],
   "source": [
    "cluster_map = pd.DataFrame()\n",
    "cluster_map['data_index'] = X_norm.index.values\n",
    "cluster_map['cluster'] = km_4.labels_"
   ]
  },
  {
   "cell_type": "code",
   "execution_count": 246,
   "metadata": {},
   "outputs": [],
   "source": [
    "df_cluster_contents = pd.DataFrame(columns=['Not ckd','ckd'])\n",
    "for j in range(0,4):\n",
    "    df_temp = cluster_map[cluster_map.cluster == j]\n",
    "    count_zero = 0\n",
    "    count_one = 0\n",
    "    for i in df_temp.index.values:\n",
    "        x = df.loc[cluster_map.loc[i,'data_index'],'class']\n",
    "        if x == 0 :\n",
    "            count_zero = count_zero + 1\n",
    "        else:\n",
    "            count_one = count_one + 1\n",
    "    df_data = pd.DataFrame(data=[(count_zero, count_one)], columns=['Not ckd','ckd'])\n",
    "    df_cluster_contents = df_cluster_contents.append(df_data, ignore_index = True)"
   ]
  },
  {
   "cell_type": "code",
   "execution_count": 247,
   "metadata": {},
   "outputs": [
    {
     "name": "stdout",
     "output_type": "stream",
     "text": [
      "  Not ckd ckd\n",
      "0       0  25\n",
      "1       0  14\n",
      "2      54   3\n",
      "3      61   1\n"
     ]
    }
   ],
   "source": [
    "print (df_cluster_contents)"
   ]
  },
  {
   "cell_type": "markdown",
   "metadata": {},
   "source": [
    "## K-Means Clustering with k = 5"
   ]
  },
  {
   "cell_type": "code",
   "execution_count": 248,
   "metadata": {},
   "outputs": [],
   "source": [
    "# Performing K-Means Clustering using number of clusters K=5\n",
    "from sklearn.cluster import KMeans\n",
    "\n",
    "km_5 = KMeans(n_clusters=5, init='random', n_init=100, max_iter=100)\n",
    "y_km_5 = km_5.fit_predict(X_norm)"
   ]
  },
  {
   "cell_type": "code",
   "execution_count": 250,
   "metadata": {},
   "outputs": [
    {
     "name": "stdout",
     "output_type": "stream",
     "text": [
      "[[0.66666667 0.46296296 0.16746032 0.27220364 0.30668168 0.45014245\n",
      "  0.04257179 0.43386243 0.4382716  0.38028515 0.25047081]\n",
      " [0.36908253 0.34677419 0.07853303 0.07962024 0.03073235 0.76344086\n",
      "  0.04353026 0.8172043  0.82903226 0.16807023 0.56096227]\n",
      " [0.5974026  0.66666667 0.26190476 0.62021553 0.79129129 0.47863248\n",
      "  0.16729089 0.3159486  0.29135802 0.21681416 0.13370998]\n",
      " [0.70312144 0.38596491 0.10785297 0.08149974 0.040422   0.80611786\n",
      "  0.03804455 0.81083662 0.82768031 0.18879056 0.53880464]\n",
      " [0.754329   0.45833333 0.55734127 0.20289855 0.18693694 0.59401709\n",
      "  0.03726592 0.52154195 0.54074074 0.22603245 0.29661017]]\n"
     ]
    }
   ],
   "source": [
    "print(km_5.cluster_centers_)  "
   ]
  },
  {
   "cell_type": "code",
   "execution_count": 251,
   "metadata": {},
   "outputs": [],
   "source": [
    "labels = km_5.predict(X_norm)\n",
    "clusters = {}\n",
    "n = 0\n",
    "pat_obs = list(range(1,159))\n",
    "for item in labels:\n",
    "        if item in clusters:\n",
    "            clusters[item].append(pat_obs[n])\n",
    "        else:\n",
    "            clusters[item] = [pat_obs[n]]\n",
    "        n +=1"
   ]
  },
  {
   "cell_type": "code",
   "execution_count": 252,
   "metadata": {},
   "outputs": [
    {
     "name": "stdout",
     "output_type": "stream",
     "text": [
      "\n",
      "\n",
      "Cluster  0\n",
      "1 2 4 5 6 8 10 11 12 18 22 27 28 29 33 38 39 40 \n",
      "\n",
      "Cluster  4\n",
      "3 7 9 14 16 17 23 26 30 36 37 42 \n",
      "\n",
      "Cluster  2\n",
      "13 19 20 24 32 34 35 41 43 \n",
      "\n",
      "Cluster  3\n",
      "15 21 25 46 47 48 50 55 56 59 60 61 65 66 70 73 74 76 80 84 85 88 89 91 92 93 94 96 100 102 104 107 110 120 122 126 127 128 130 131 133 134 135 136 137 138 139 140 142 143 144 147 149 151 153 154 158 \n",
      "\n",
      "Cluster  1\n",
      "31 44 45 49 51 52 53 54 57 58 62 63 64 67 68 69 71 72 75 77 78 79 81 82 83 86 87 90 95 97 98 99 101 103 105 106 108 109 111 112 113 114 115 116 117 118 119 121 123 124 125 129 132 141 145 146 148 150 152 155 156 157 "
     ]
    }
   ],
   "source": [
    "for item in clusters:\n",
    "    print(\"\\n\")\n",
    "    print (\"Cluster \", item )\n",
    "    for i in clusters[item]:\n",
    "        print (i, end = \" \")"
   ]
  },
  {
   "cell_type": "code",
   "execution_count": 253,
   "metadata": {},
   "outputs": [],
   "source": [
    "cluster_map = pd.DataFrame()\n",
    "cluster_map['data_index'] = X_norm.index.values\n",
    "cluster_map['cluster'] = km_5.labels_"
   ]
  },
  {
   "cell_type": "code",
   "execution_count": 254,
   "metadata": {},
   "outputs": [],
   "source": [
    "df_cluster_contents = pd.DataFrame(columns=['Not ckd','ckd'])\n",
    "for j in range(0,5):\n",
    "    df_temp = cluster_map[cluster_map.cluster == j]\n",
    "    count_zero = 0\n",
    "    count_one = 0\n",
    "    for i in df_temp.index.values:\n",
    "        x = df.loc[cluster_map.loc[i,'data_index'],'class']\n",
    "        if x == 0 :\n",
    "            count_zero = count_zero + 1\n",
    "        else:\n",
    "            count_one = count_one + 1\n",
    "    df_data = pd.DataFrame(data=[(count_zero, count_one)], columns=['Not ckd','ckd'])\n",
    "    df_cluster_contents = df_cluster_contents.append(df_data, ignore_index = True)"
   ]
  },
  {
   "cell_type": "code",
   "execution_count": 255,
   "metadata": {},
   "outputs": [
    {
     "name": "stdout",
     "output_type": "stream",
     "text": [
      "  Not ckd ckd\n",
      "0       0  18\n",
      "1      61   1\n",
      "2       0   9\n",
      "3      54   3\n",
      "4       0  12\n"
     ]
    }
   ],
   "source": [
    "print (df_cluster_contents)"
   ]
  },
  {
   "cell_type": "markdown",
   "metadata": {},
   "source": [
    "## K-Means Clustering with k = 3"
   ]
  },
  {
   "cell_type": "code",
   "execution_count": 256,
   "metadata": {},
   "outputs": [],
   "source": [
    "# Performing K-Means Clustering using number of clusters K=3\n",
    "from sklearn.cluster import KMeans\n",
    "\n",
    "km_3 = KMeans(n_clusters=3, init='random', n_init=100, max_iter=100)\n",
    "y_km_3 = km_3.fit_predict(X_norm)"
   ]
  },
  {
   "cell_type": "code",
   "execution_count": 257,
   "metadata": {},
   "outputs": [
    {
     "name": "stdout",
     "output_type": "stream",
     "text": [
      "[[0.52908436 0.36554622 0.09257703 0.0805205  0.03537361 0.78388278\n",
      "  0.04090265 0.81415423 0.82838469 0.17799509 0.55034895]\n",
      " [0.72051948 0.46       0.35780952 0.20548495 0.20216216 0.53538462\n",
      "  0.04116854 0.47346939 0.47555556 0.33221239 0.26983051]\n",
      " [0.60111317 0.5952381  0.22244898 0.55566173 0.70222008 0.43956044\n",
      "  0.12070626 0.36248785 0.36507937 0.22882427 0.18038741]]\n"
     ]
    }
   ],
   "source": [
    "print(km_3.cluster_centers_)  "
   ]
  },
  {
   "cell_type": "code",
   "execution_count": 258,
   "metadata": {},
   "outputs": [],
   "source": [
    "labels = km_3.predict(X_norm)\n",
    "clusters = {}\n",
    "n = 0\n",
    "pat_obs = list(range(1,159))\n",
    "for item in labels:\n",
    "        if item in clusters:\n",
    "            clusters[item].append(pat_obs[n])\n",
    "        else:\n",
    "            clusters[item] = [pat_obs[n]]\n",
    "        n +=1"
   ]
  },
  {
   "cell_type": "code",
   "execution_count": 259,
   "metadata": {},
   "outputs": [
    {
     "name": "stdout",
     "output_type": "stream",
     "text": [
      "\n",
      "\n",
      "Cluster  1\n",
      "1 3 4 5 7 8 9 10 14 16 17 18 22 23 26 27 28 29 30 33 36 37 38 40 42 \n",
      "\n",
      "Cluster  2\n",
      "2 6 11 12 13 19 20 24 32 34 35 39 41 43 \n",
      "\n",
      "Cluster  0\n",
      "15 21 25 31 44 45 46 47 48 49 50 51 52 53 54 55 56 57 58 59 60 61 62 63 64 65 66 67 68 69 70 71 72 73 74 75 76 77 78 79 80 81 82 83 84 85 86 87 88 89 90 91 92 93 94 95 96 97 98 99 100 101 102 103 104 105 106 107 108 109 110 111 112 113 114 115 116 117 118 119 120 121 122 123 124 125 126 127 128 129 130 131 132 133 134 135 136 137 138 139 140 141 142 143 144 145 146 147 148 149 150 151 152 153 154 155 156 157 158 "
     ]
    }
   ],
   "source": [
    "for item in clusters:\n",
    "    print(\"\\n\")\n",
    "    print (\"Cluster \", item )\n",
    "    for i in clusters[item]:\n",
    "        print (i, end = \" \")"
   ]
  },
  {
   "cell_type": "code",
   "execution_count": 260,
   "metadata": {},
   "outputs": [],
   "source": [
    "cluster_map = pd.DataFrame()\n",
    "cluster_map['data_index'] = X_norm.index.values\n",
    "cluster_map['cluster'] = km_3.labels_"
   ]
  },
  {
   "cell_type": "code",
   "execution_count": 261,
   "metadata": {},
   "outputs": [],
   "source": [
    "df_cluster_contents = pd.DataFrame(columns=['Not ckd','ckd'])\n",
    "for j in range(0,3):\n",
    "    df_temp = cluster_map[cluster_map.cluster == j]\n",
    "    count_zero = 0\n",
    "    count_one = 0\n",
    "    for i in df_temp.index.values:\n",
    "        x = df.loc[cluster_map.loc[i,'data_index'],'class']\n",
    "        if x == 0 :\n",
    "            count_zero = count_zero + 1\n",
    "        else:\n",
    "            count_one = count_one + 1\n",
    "    df_data = pd.DataFrame(data=[(count_zero, count_one)], columns=['Not ckd','ckd'])\n",
    "    df_cluster_contents = df_cluster_contents.append(df_data, ignore_index = True)"
   ]
  },
  {
   "cell_type": "code",
   "execution_count": 262,
   "metadata": {},
   "outputs": [
    {
     "name": "stdout",
     "output_type": "stream",
     "text": [
      "  Not ckd ckd\n",
      "0     115   4\n",
      "1       0  25\n",
      "2       0  14\n"
     ]
    }
   ],
   "source": [
    "print (df_cluster_contents)"
   ]
  },
  {
   "cell_type": "code",
   "execution_count": null,
   "metadata": {},
   "outputs": [],
   "source": []
  }
 ],
 "metadata": {
  "kernelspec": {
   "display_name": "Python 3",
   "language": "python",
   "name": "python3"
  },
  "language_info": {
   "codemirror_mode": {
    "name": "ipython",
    "version": 3
   },
   "file_extension": ".py",
   "mimetype": "text/x-python",
   "name": "python",
   "nbconvert_exporter": "python",
   "pygments_lexer": "ipython3",
   "version": "3.6.5"
  }
 },
 "nbformat": 4,
 "nbformat_minor": 2
}
